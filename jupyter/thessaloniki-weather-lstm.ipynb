{
 "cells": [
  {
   "cell_type": "code",
   "execution_count": 7,
   "metadata": {
    "collapsed": true
   },
   "outputs": [
    {
     "name": "stdout",
     "output_type": "stream",
     "text": [
      "Thessaloniki Weather LSTM\n"
     ]
    }
   ],
   "source": [
    "print('Thessaloniki Weather LSTM')"
   ]
  },
  {
   "cell_type": "code",
   "execution_count": 8,
   "outputs": [
    {
     "data": {
      "text/plain": "<Figure size 432x288 with 1 Axes>",
      "image/png": "[encoded data removed]"
     },
     "metadata": {
      "needs_background": "light"
     },
     "output_type": "display_data"
    }
   ],
   "source": [
    "import numpy\n",
    "import matplotlib.pyplot as plt\n",
    "import pandas\n",
    "\n",
    "# fix random seed for reproducibility\n",
    "numpy.random.seed(7)\n",
    "\n",
    "# load the dataset\n",
    "dataframe = pandas.read_csv('thessaloniki-weather.csv', usecols=['Mean_temp'], engine='python')\n",
    "dataset = dataframe.values\n",
    "dataset = dataset.astype('float32')\n",
    "\n",
    "plt.plot(dataset)\n",
    "plt.show()"
   ],
   "metadata": {
    "collapsed": false,
    "pycharm": {
     "name": "#%%\n"
    }
   }
  },
  {
   "cell_type": "code",
   "execution_count": 9,
   "outputs": [
    {
     "name": "stdout",
     "output_type": "stream",
     "text": [
      "978 483\n"
     ]
    }
   ],
   "source": [
    "from sklearn.preprocessing import MinMaxScaler\n",
    "\n",
    "# normalize the dataset\n",
    "scaler = MinMaxScaler(feature_range=(0, 1))\n",
    "dataset = scaler.fit_transform(dataset)\n",
    "\n",
    "# split into train and test sets\n",
    "train_size = int(len(dataset) * 0.67)\n",
    "test_size = len(dataset) - train_size\n",
    "train, test = dataset[0:train_size,:], dataset[train_size:len(dataset),:]\n",
    "print(len(train), len(test))\n",
    "\n",
    "# convert an array of values into a dataset matrix\n",
    "def create_dataset(dataset, look_back=1):\n",
    "\tdataX, dataY = [], []\n",
    "\tfor i in range(len(dataset)-look_back-1):\n",
    "\t\ta = dataset[i:(i+look_back), 0]\n",
    "\t\tdataX.append(a)\n",
    "\t\tdataY.append(dataset[i + look_back, 0])\n",
    "\treturn numpy.array(dataX), numpy.array(dataY)\n",
    "\n",
    "# reshape into X=t and Y=t+1\n",
    "look_back = 1\n",
    "trainX, trainY = create_dataset(train, look_back)\n",
    "testX, testY = create_dataset(test, look_back)\n",
    "\n",
    "# reshape input to be [samples, time steps, features]\n",
    "trainX = numpy.reshape(trainX, (trainX.shape[0], 1, trainX.shape[1]))\n",
    "testX = numpy.reshape(testX, (testX.shape[0], 1, testX.shape[1]))"
   ],
   "metadata": {
    "collapsed": false,
    "pycharm": {
     "name": "#%%\n"
    }
   }
  },
  {
   "cell_type": "code",
   "execution_count": 10,
   "outputs": [
    {
     "name": "stdout",
     "output_type": "stream",
     "text": [
      "Epoch 1/100\n",
      "976/976 - 2s - loss: 0.0800 - 2s/epoch - 2ms/step\n",
      "Epoch 2/100\n",
      "976/976 - 1s - loss: 0.0115 - 709ms/epoch - 727us/step\n",
      "Epoch 3/100\n",
      "976/976 - 1s - loss: 0.0030 - 704ms/epoch - 721us/step\n",
      "Epoch 4/100\n",
      "976/976 - 1s - loss: 0.0019 - 678ms/epoch - 695us/step\n",
      "Epoch 5/100\n",
      "976/976 - 1s - loss: 0.0019 - 719ms/epoch - 737us/step\n",
      "Epoch 6/100\n",
      "976/976 - 1s - loss: 0.0019 - 873ms/epoch - 894us/step\n",
      "Epoch 7/100\n",
      "976/976 - 1s - loss: 0.0020 - 935ms/epoch - 958us/step\n",
      "Epoch 8/100\n",
      "976/976 - 1s - loss: 0.0020 - 870ms/epoch - 891us/step\n",
      "Epoch 9/100\n",
      "976/976 - 1s - loss: 0.0019 - 903ms/epoch - 925us/step\n",
      "Epoch 10/100\n",
      "976/976 - 1s - loss: 0.0019 - 924ms/epoch - 947us/step\n",
      "Epoch 11/100\n",
      "976/976 - 1s - loss: 0.0020 - 893ms/epoch - 915us/step\n",
      "Epoch 12/100\n",
      "976/976 - 1s - loss: 0.0020 - 897ms/epoch - 919us/step\n",
      "Epoch 13/100\n",
      "976/976 - 1s - loss: 0.0019 - 965ms/epoch - 989us/step\n",
      "Epoch 14/100\n",
      "976/976 - 1s - loss: 0.0020 - 833ms/epoch - 853us/step\n",
      "Epoch 15/100\n",
      "976/976 - 1s - loss: 0.0019 - 899ms/epoch - 921us/step\n",
      "Epoch 16/100\n",
      "976/976 - 1s - loss: 0.0019 - 1s/epoch - 1ms/step\n",
      "Epoch 17/100\n",
      "976/976 - 1s - loss: 0.0020 - 1s/epoch - 1ms/step\n",
      "Epoch 18/100\n",
      "976/976 - 1s - loss: 0.0020 - 718ms/epoch - 736us/step\n",
      "Epoch 19/100\n",
      "976/976 - 1s - loss: 0.0020 - 902ms/epoch - 924us/step\n",
      "Epoch 20/100\n",
      "976/976 - 1s - loss: 0.0020 - 889ms/epoch - 910us/step\n",
      "Epoch 21/100\n",
      "976/976 - 1s - loss: 0.0019 - 895ms/epoch - 917us/step\n",
      "Epoch 22/100\n",
      "976/976 - 1s - loss: 0.0020 - 913ms/epoch - 936us/step\n",
      "Epoch 23/100\n",
      "976/976 - 1s - loss: 0.0019 - 865ms/epoch - 886us/step\n",
      "Epoch 24/100\n",
      "976/976 - 1s - loss: 0.0019 - 877ms/epoch - 898us/step\n",
      "Epoch 25/100\n",
      "976/976 - 1s - loss: 0.0020 - 868ms/epoch - 890us/step\n",
      "Epoch 26/100\n",
      "976/976 - 1s - loss: 0.0020 - 953ms/epoch - 976us/step\n",
      "Epoch 27/100\n",
      "976/976 - 1s - loss: 0.0019 - 1s/epoch - 1ms/step\n",
      "Epoch 28/100\n",
      "976/976 - 1s - loss: 0.0019 - 1s/epoch - 1ms/step\n",
      "Epoch 29/100\n",
      "976/976 - 1s - loss: 0.0020 - 1s/epoch - 1ms/step\n",
      "Epoch 30/100\n",
      "976/976 - 1s - loss: 0.0020 - 660ms/epoch - 677us/step\n",
      "Epoch 31/100\n",
      "976/976 - 1s - loss: 0.0019 - 1s/epoch - 1ms/step\n",
      "Epoch 32/100\n",
      "976/976 - 1s - loss: 0.0020 - 1s/epoch - 1ms/step\n",
      "Epoch 33/100\n",
      "976/976 - 1s - loss: 0.0019 - 912ms/epoch - 934us/step\n",
      "Epoch 34/100\n",
      "976/976 - 1s - loss: 0.0020 - 885ms/epoch - 907us/step\n",
      "Epoch 35/100\n",
      "976/976 - 1s - loss: 0.0019 - 880ms/epoch - 902us/step\n",
      "Epoch 36/100\n",
      "976/976 - 1s - loss: 0.0019 - 921ms/epoch - 943us/step\n",
      "Epoch 37/100\n",
      "976/976 - 1s - loss: 0.0019 - 1s/epoch - 1ms/step\n",
      "Epoch 38/100\n",
      "976/976 - 1s - loss: 0.0019 - 1s/epoch - 1ms/step\n",
      "Epoch 39/100\n",
      "976/976 - 1s - loss: 0.0019 - 1s/epoch - 1ms/step\n",
      "Epoch 40/100\n",
      "976/976 - 1s - loss: 0.0020 - 1s/epoch - 1ms/step\n",
      "Epoch 41/100\n",
      "976/976 - 1s - loss: 0.0019 - 1s/epoch - 1ms/step\n",
      "Epoch 42/100\n",
      "976/976 - 1s - loss: 0.0020 - 1s/epoch - 1ms/step\n",
      "Epoch 43/100\n",
      "976/976 - 1s - loss: 0.0019 - 1s/epoch - 1ms/step\n",
      "Epoch 44/100\n",
      "976/976 - 1s - loss: 0.0020 - 897ms/epoch - 919us/step\n",
      "Epoch 45/100\n",
      "976/976 - 1s - loss: 0.0019 - 859ms/epoch - 880us/step\n",
      "Epoch 46/100\n",
      "976/976 - 1s - loss: 0.0020 - 991ms/epoch - 1ms/step\n",
      "Epoch 47/100\n",
      "976/976 - 1s - loss: 0.0019 - 938ms/epoch - 961us/step\n",
      "Epoch 48/100\n",
      "976/976 - 1s - loss: 0.0020 - 977ms/epoch - 1ms/step\n",
      "Epoch 49/100\n",
      "976/976 - 1s - loss: 0.0019 - 900ms/epoch - 922us/step\n",
      "Epoch 50/100\n",
      "976/976 - 1s - loss: 0.0019 - 826ms/epoch - 846us/step\n",
      "Epoch 51/100\n",
      "976/976 - 1s - loss: 0.0020 - 868ms/epoch - 890us/step\n",
      "Epoch 52/100\n",
      "976/976 - 1s - loss: 0.0020 - 1s/epoch - 1ms/step\n",
      "Epoch 53/100\n",
      "976/976 - 1s - loss: 0.0019 - 1s/epoch - 1ms/step\n",
      "Epoch 54/100\n",
      "976/976 - 1s - loss: 0.0020 - 916ms/epoch - 939us/step\n",
      "Epoch 55/100\n",
      "976/976 - 1s - loss: 0.0019 - 936ms/epoch - 959us/step\n",
      "Epoch 56/100\n",
      "976/976 - 2s - loss: 0.0019 - 2s/epoch - 2ms/step\n",
      "Epoch 57/100\n",
      "976/976 - 2s - loss: 0.0020 - 2s/epoch - 2ms/step\n",
      "Epoch 58/100\n",
      "976/976 - 3s - loss: 0.0019 - 3s/epoch - 3ms/step\n",
      "Epoch 59/100\n",
      "976/976 - 3s - loss: 0.0019 - 3s/epoch - 3ms/step\n",
      "Epoch 60/100\n",
      "976/976 - 3s - loss: 0.0019 - 3s/epoch - 3ms/step\n",
      "Epoch 61/100\n",
      "976/976 - 2s - loss: 0.0019 - 2s/epoch - 2ms/step\n",
      "Epoch 62/100\n",
      "976/976 - 3s - loss: 0.0020 - 3s/epoch - 3ms/step\n",
      "Epoch 63/100\n",
      "976/976 - 3s - loss: 0.0020 - 3s/epoch - 3ms/step\n",
      "Epoch 64/100\n",
      "976/976 - 3s - loss: 0.0019 - 3s/epoch - 3ms/step\n",
      "Epoch 65/100\n",
      "976/976 - 3s - loss: 0.0020 - 3s/epoch - 3ms/step\n",
      "Epoch 66/100\n",
      "976/976 - 3s - loss: 0.0019 - 3s/epoch - 3ms/step\n",
      "Epoch 67/100\n",
      "976/976 - 3s - loss: 0.0019 - 3s/epoch - 3ms/step\n",
      "Epoch 68/100\n",
      "976/976 - 3s - loss: 0.0019 - 3s/epoch - 3ms/step\n",
      "Epoch 69/100\n",
      "976/976 - 3s - loss: 0.0020 - 3s/epoch - 3ms/step\n",
      "Epoch 70/100\n",
      "976/976 - 3s - loss: 0.0019 - 3s/epoch - 3ms/step\n",
      "Epoch 71/100\n",
      "976/976 - 2s - loss: 0.0019 - 2s/epoch - 2ms/step\n",
      "Epoch 72/100\n",
      "976/976 - 3s - loss: 0.0019 - 3s/epoch - 3ms/step\n",
      "Epoch 73/100\n",
      "976/976 - 3s - loss: 0.0019 - 3s/epoch - 3ms/step\n",
      "Epoch 74/100\n",
      "976/976 - 3s - loss: 0.0020 - 3s/epoch - 3ms/step\n",
      "Epoch 75/100\n",
      "976/976 - 3s - loss: 0.0019 - 3s/epoch - 3ms/step\n",
      "Epoch 76/100\n",
      "976/976 - 3s - loss: 0.0019 - 3s/epoch - 3ms/step\n",
      "Epoch 77/100\n",
      "976/976 - 3s - loss: 0.0020 - 3s/epoch - 3ms/step\n",
      "Epoch 78/100\n",
      "976/976 - 3s - loss: 0.0019 - 3s/epoch - 3ms/step\n",
      "Epoch 79/100\n",
      "976/976 - 3s - loss: 0.0020 - 3s/epoch - 3ms/step\n",
      "Epoch 80/100\n",
      "976/976 - 3s - loss: 0.0019 - 3s/epoch - 3ms/step\n",
      "Epoch 81/100\n",
      "976/976 - 3s - loss: 0.0020 - 3s/epoch - 3ms/step\n",
      "Epoch 82/100\n",
      "976/976 - 3s - loss: 0.0019 - 3s/epoch - 3ms/step\n",
      "Epoch 83/100\n",
      "976/976 - 3s - loss: 0.0020 - 3s/epoch - 3ms/step\n",
      "Epoch 84/100\n",
      "976/976 - 2s - loss: 0.0019 - 2s/epoch - 2ms/step\n",
      "Epoch 85/100\n",
      "976/976 - 3s - loss: 0.0019 - 3s/epoch - 3ms/step\n",
      "Epoch 86/100\n",
      "976/976 - 3s - loss: 0.0020 - 3s/epoch - 3ms/step\n",
      "Epoch 87/100\n",
      "976/976 - 3s - loss: 0.0019 - 3s/epoch - 3ms/step\n",
      "Epoch 88/100\n",
      "976/976 - 3s - loss: 0.0019 - 3s/epoch - 3ms/step\n",
      "Epoch 89/100\n",
      "976/976 - 3s - loss: 0.0019 - 3s/epoch - 3ms/step\n",
      "Epoch 90/100\n",
      "976/976 - 3s - loss: 0.0019 - 3s/epoch - 3ms/step\n",
      "Epoch 91/100\n",
      "976/976 - 3s - loss: 0.0019 - 3s/epoch - 3ms/step\n",
      "Epoch 92/100\n",
      "976/976 - 3s - loss: 0.0020 - 3s/epoch - 3ms/step\n",
      "Epoch 93/100\n",
      "976/976 - 3s - loss: 0.0019 - 3s/epoch - 3ms/step\n",
      "Epoch 94/100\n",
      "976/976 - 3s - loss: 0.0020 - 3s/epoch - 3ms/step\n",
      "Epoch 95/100\n",
      "976/976 - 3s - loss: 0.0019 - 3s/epoch - 3ms/step\n",
      "Epoch 96/100\n",
      "976/976 - 3s - loss: 0.0019 - 3s/epoch - 3ms/step\n",
      "Epoch 97/100\n",
      "976/976 - 3s - loss: 0.0019 - 3s/epoch - 3ms/step\n",
      "Epoch 98/100\n",
      "976/976 - 2s - loss: 0.0020 - 2s/epoch - 2ms/step\n",
      "Epoch 99/100\n",
      "976/976 - 2s - loss: 0.0020 - 2s/epoch - 3ms/step\n",
      "Epoch 100/100\n",
      "976/976 - 3s - loss: 0.0020 - 3s/epoch - 3ms/step\n",
      "Train Score: 1.60 RMSE\n",
      "Test Score: 1.51 RMSE\n"
     ]
    }
   ],
   "source": [
    "import math\n",
    "from keras.models import Sequential\n",
    "from keras.layers import Dense\n",
    "from keras.layers import LSTM\n",
    "from sklearn.metrics import mean_squared_error\n",
    "\n",
    "# create and fit the LSTM network\n",
    "model = Sequential()\n",
    "model.add(LSTM(4, input_shape=(1, look_back)))\n",
    "model.add(Dense(1))\n",
    "model.compile(loss='mean_squared_error', optimizer='adam')\n",
    "model.fit(trainX, trainY, epochs=100, batch_size=1, verbose=2)\n",
    "\n",
    "# make predictions\n",
    "trainPredict = model.predict(trainX)\n",
    "testPredict = model.predict(testX)\n",
    "# invert predictions\n",
    "trainPredict = scaler.inverse_transform(trainPredict)\n",
    "trainY = scaler.inverse_transform([trainY])\n",
    "testPredict = scaler.inverse_transform(testPredict)\n",
    "testY = scaler.inverse_transform([testY])\n",
    "# calculate root mean squared error\n",
    "trainScore = math.sqrt(mean_squared_error(trainY[0], trainPredict[:,0]))\n",
    "print('Train Score: %.2f RMSE' % (trainScore))\n",
    "testScore = math.sqrt(mean_squared_error(testY[0], testPredict[:,0]))\n",
    "print('Test Score: %.2f RMSE' % (testScore))"
   ],
   "metadata": {
    "collapsed": false,
    "pycharm": {
     "name": "#%%\n"
    }
   }
  },
  {
   "cell_type": "code",
   "execution_count": 11,
   "outputs": [
    {
     "data": {
      "text/plain": "<Figure size 432x288 with 1 Axes>",
      "image/png": "[encoded data removed]"
     },
     "metadata": {
      "needs_background": "light"
     },
     "output_type": "display_data"
    }
   ],
   "source": [
    "# shift train predictions for plotting\n",
    "trainPredictPlot = numpy.empty_like(dataset)\n",
    "trainPredictPlot[:, :] = numpy.nan\n",
    "trainPredictPlot[look_back:len(trainPredict)+look_back, :] = trainPredict\n",
    "# shift test predictions for plotting\n",
    "testPredictPlot = numpy.empty_like(dataset)\n",
    "testPredictPlot[:, :] = numpy.nan\n",
    "testPredictPlot[len(trainPredict)+(look_back*2)+1:len(dataset)-1, :] = testPredict\n",
    "# plot baseline and predictions\n",
    "plt.plot(scaler.inverse_transform(dataset))\n",
    "plt.plot(trainPredictPlot)\n",
    "plt.plot(testPredictPlot)\n",
    "plt.show()"
   ],
   "metadata": {
    "collapsed": false,
    "pycharm": {
     "name": "#%%\n"
    }
   }
  }
 ],
 "metadata": {
  "kernelspec": {
   "display_name": "Python 3",
   "language": "python",
   "name": "python3"
  },
  "language_info": {
   "codemirror_mode": {
    "name": "ipython",
    "version": 2
   },
   "file_extension": ".py",
   "mimetype": "text/x-python",
   "name": "python",
   "nbconvert_exporter": "python",
   "pygments_lexer": "ipython2",
   "version": "2.7.6"
  }
 },
 "nbformat": 4,
 "nbformat_minor": 0
}